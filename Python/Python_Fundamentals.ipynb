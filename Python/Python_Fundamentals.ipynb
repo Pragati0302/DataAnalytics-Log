{
 "cells": [
  {
   "cell_type": "markdown",
   "id": "8602ba67",
   "metadata": {},
   "source": [
    "# Python Fundamentals\n",
    "\n",
    "Python is a high-level, interpreted programming language known for its readability and versatility. It's widely used in data analytics, web development, automation, and more."
   ]
  },
  {
   "cell_type": "markdown",
   "id": "7df7bdbd",
   "metadata": {},
   "source": [
    "**Advantages**:\n",
    "- Easy to learn and read\n",
    "- Large community and libraries\n",
    "- Cross-platform compatibility\n",
    "- Great for rapid prototyping\n",
    "\n",
    "**Disadvantages**:\n",
    "- Slower than compiled languages\n",
    "- Not ideal for mobile development\n",
    "- Dynamic typing can lead to runtime errors"
   ]
  },
  {
   "cell_type": "markdown",
   "id": "f68c647b",
   "metadata": {},
   "source": [
    "## Python Basics\n",
    "\n",
    "Introduction to Python, comments, variables, input/output, and print() formatting."
   ]
  },
  {
   "cell_type": "markdown",
   "id": "1d3cc30d",
   "metadata": {},
   "source": [
    "###  Comments in Python"
   ]
  },
  {
   "cell_type": "code",
   "execution_count": null,
   "id": "b8b9c8f2",
   "metadata": {},
   "outputs": [
    {
     "data": {
      "text/plain": [
       "' Multiline \\ncomments '"
      ]
     },
     "execution_count": 5,
     "metadata": {},
     "output_type": "execute_result"
    }
   ],
   "source": [
    "# Single-line comment\n",
    "\n",
    "# Multi-line comments\n",
    "\n",
    "''' Multi-line \n",
    "comments '''\n",
    "\n",
    "\"\"\" Multiline \n",
    "comments \"\"\""
   ]
  },
  {
   "cell_type": "markdown",
   "id": "2566f047",
   "metadata": {},
   "source": [
    "### Input/Output"
   ]
  },
  {
   "cell_type": "code",
   "execution_count": null,
   "id": "1eb5cab2",
   "metadata": {},
   "outputs": [],
   "source": [
    "user = input('Enter your name: ')\n",
    "print(f'Hello, {user}!')"
   ]
  },
  {
   "cell_type": "markdown",
   "id": "4af3a1e0",
   "metadata": {},
   "source": [
    "### Variables\n",
    "\n",
    "Variables in Python are names that refer to objects in memory."
   ]
  },
  {
   "cell_type": "code",
   "execution_count": null,
   "id": "659cb949",
   "metadata": {},
   "outputs": [],
   "source": [
    "name = 'Alice' \n",
    "age = 25\n",
    "height = 5.6\n",
    "is_student = True \n",
    "\n",
    "#Python supports dynamic typing, i.e., variables need not be declared with their data types\n",
    "#type is assigned at runtime"
   ]
  },
  {
   "cell_type": "markdown",
   "id": "bbbcca6e",
   "metadata": {},
   "source": [
    "## Keywords\n",
    "- Keywords are reserved words that cannot be used as variable names."
   ]
  },
  {
   "cell_type": "code",
   "execution_count": 1,
   "id": "4f2fe762",
   "metadata": {},
   "outputs": [
    {
     "name": "stdout",
     "output_type": "stream",
     "text": [
      "['False', 'None', 'True', 'and', 'as', 'assert', 'async', 'await', 'break', 'class', 'continue', 'def', 'del', 'elif', 'else', 'except', 'finally', 'for', 'from', 'global', 'if', 'import', 'in', 'is', 'lambda', 'nonlocal', 'not', 'or', 'pass', 'raise', 'return', 'try', 'while', 'with', 'yield']\n"
     ]
    }
   ],
   "source": [
    "#There are 35+ keywords like if, else, for, while, def, class, etc.\n",
    "import keyword\n",
    "print(keyword.kwlist)"
   ]
  },
  {
   "cell_type": "markdown",
   "id": "604fefca",
   "metadata": {},
   "source": [
    "### Print Formatting"
   ]
  },
  {
   "cell_type": "code",
   "execution_count": 8,
   "id": "9192300c",
   "metadata": {},
   "outputs": [
    {
     "name": "stdout",
     "output_type": "stream",
     "text": [
      "Name: Sam\n",
      "Age: 29\n",
      "Sam is 29 years old and 6.0 ft tall.\n"
     ]
    }
   ],
   "source": [
    "name = \"Sam\"\n",
    "age=29\n",
    "height=6.0\n",
    "print('Name:', name)\n",
    "print('Age:', age)\n",
    "print(f'{name} is {age} years old and {height} ft tall.')"
   ]
  },
  {
   "cell_type": "markdown",
   "id": "dbc5924b",
   "metadata": {},
   "source": [
    "## Data Types, Operators and Conditions\n",
    "\n",
    "- Data types: \n",
    "    - Numeric: `int`, `float`, `complex`\n",
    "    - Sequence: `str`, `list`, `tuple`\n",
    "    - Mapping: `dict`\n",
    "    - Set: `set`, `frozenset`\n",
    "    - Boolean: `bool`\n",
    "    - NoneType: `None` \n",
    "- Operations: Type casting, arithmetic, comparison, logical operators\n",
    "- Conditional statements: if-elif-else, while, for etc"
   ]
  },
  {
   "cell_type": "code",
   "execution_count": 13,
   "id": "c4482d74",
   "metadata": {},
   "outputs": [
    {
     "name": "stdout",
     "output_type": "stream",
     "text": [
      "3\n",
      "10.0\n",
      "10\n",
      "a + b = 13.14\n",
      "a // 3 = 3\n",
      "a ** 2 = 100\n",
      "reminder of a/b =  0\n",
      "quotient of a/b = 3.184713375796178\n",
      "a - b =  6.859999999999999\n",
      "a > b? True\n",
      "a == 10? True\n",
      "a < 10? False\n",
      "a != 10? False\n",
      "a <= 10? True\n",
      "a >= 10? True\n",
      "(a > 5) and (b < 4): True\n",
      "(a > 5) or (b < 4): True\n",
      "not d: True\n",
      "2\n"
     ]
    },
    {
     "ename": "TypeError",
     "evalue": "unsupported operand type(s) for |: 'int' and 'float'",
     "output_type": "error",
     "traceback": [
      "\u001b[31m---------------------------------------------------------------------------\u001b[39m",
      "\u001b[31mTypeError\u001b[39m                                 Traceback (most recent call last)",
      "\u001b[36mCell\u001b[39m\u001b[36m \u001b[39m\u001b[32mIn[13]\u001b[39m\u001b[32m, line 37\u001b[39m\n\u001b[32m     35\u001b[39m \u001b[38;5;66;03m# Bitwise Operators\u001b[39;00m\n\u001b[32m     36\u001b[39m \u001b[38;5;28mprint\u001b[39m(\u001b[38;5;28mint\u001b[39m(a) & \u001b[38;5;28mint\u001b[39m(b))    \u001b[38;5;66;03m#AND\u001b[39;00m\n\u001b[32m---> \u001b[39m\u001b[32m37\u001b[39m \u001b[38;5;28mprint\u001b[39m(\u001b[43ma\u001b[49m\u001b[43m \u001b[49m\u001b[43m|\u001b[49m\u001b[43m \u001b[49m\u001b[43mb\u001b[49m)    \u001b[38;5;66;03m#OR\u001b[39;00m\n\u001b[32m     38\u001b[39m \u001b[38;5;28mprint\u001b[39m(~a)       \u001b[38;5;66;03m#NOT\u001b[39;00m\n\u001b[32m     39\u001b[39m \u001b[38;5;28mprint\u001b[39m(a ^ b)    \u001b[38;5;66;03m#XOR\u001b[39;00m\n",
      "\u001b[31mTypeError\u001b[39m: unsupported operand type(s) for |: 'int' and 'float'"
     ]
    }
   ],
   "source": [
    "# Basic data types\n",
    "a = 10        # int\n",
    "b = 3.14      # float\n",
    "c = 'hello'   # str\n",
    "d = False     # bool\n",
    "\n",
    "# Type casting\n",
    "print(int(b))     # 3 float to int\n",
    "print(float(a))   # 10.0 int to float\n",
    "print(str(a))     # '10' int to string\n",
    "\n",
    "# Arithmetic operators\n",
    "print('a + b =', a + b)\n",
    "print('a // 3 =', a // 3)  # integer division\n",
    "print('a ** 2 =', a ** 2)  # exponent\n",
    "print('reminder of a/b = ', int(a % b))\n",
    "print('quotient of a/b =', a/b)\n",
    "print('a - b = ', a-b)\n",
    "\n",
    "\n",
    "# Comparison operators\n",
    "print('a > b?', a > b)\n",
    "print('a == 10?', a == 10)\n",
    "print('a < 10?', a < 10)\n",
    "print('a != 10?', a != 10)\n",
    "print('a <= 10?', a <= 10)\n",
    "print('a >= 10?', a >= 10)\n",
    "\n",
    "# Logical operators\n",
    "print('(a > 5) and (b < 4):', (a > 5) and (b < 4))\n",
    "print('(a > 5) or (b < 4):', (a > 5) or (b < 4))   #returns truthy/falsy values\n",
    "print('not d:', not d)\n",
    "\n",
    "\n",
    "# Bitwise Operators\n",
    "print(int(a) & int(b))    #AND\n",
    "print(a | b)    #OR\n",
    "print(~a)       #NOT\n",
    "print(a ^ b)    #XOR\n",
    "print(a >> 2)   #SHIFT (left)\n",
    "print(a << 2)   #SHIFT (right)\n",
    "\n",
    "# Bitwise operators only work on int and float values as they calculate values on bits\n",
    "\n",
    "# Conditional statements\n",
    "if a > 5:\n",
    "    print('a is greater than 5')\n",
    "elif a == 5:\n",
    "    print('a is 5')\n",
    "else:\n",
    "    print('a is less than 5')"
   ]
  },
  {
   "cell_type": "markdown",
   "id": "ca60a272",
   "metadata": {},
   "source": [
    "## Control Flow\n",
    "\n",
    "- Loops: for and while. \n",
    "- Loop control statements: break, continue, pass. "
   ]
  },
  {
   "cell_type": "code",
   "execution_count": null,
   "id": "981efba6",
   "metadata": {},
   "outputs": [],
   "source": [
    "# for loop example\n",
    "for i in range(5):\n",
    "    print('i =', i)\n",
    "\n",
    "# while loop example\n",
    "count = 0\n",
    "while count < 3:\n",
    "    print('count:', count)\n",
    "    count += 1\n",
    "\n",
    "# break, continue, pass\n",
    "for n in range(6):\n",
    "    if n == 3:\n",
    "        continue  # skip 3\n",
    "    if n == 5:\n",
    "        break     # stop the loop\n",
    "    if n == 2:\n",
    "        pass      # placeholder\n",
    "    print('n:', n)"
   ]
  },
  {
   "cell_type": "markdown",
   "id": "b01881d5",
   "metadata": {},
   "source": [
    "## Functions Basics and Variable Scope\n",
    "\n",
    "Defining and calling functions, arguments, return values, local vs global scope."
   ]
  },
  {
   "cell_type": "code",
   "execution_count": null,
   "id": "bbcd1ca1",
   "metadata": {},
   "outputs": [],
   "source": [
    "# Defining and calling a function\n",
    "def greet(name):\n",
    "    return f'Hello, {name}'\n",
    "\n",
    "print(greet('Bob'))\n",
    "\n",
    "# Arguments and default values\n",
    "def add(a, b=5):\n",
    "    return a + b\n",
    "\n",
    "print(add(3))      # uses default b=5\n",
    "print(add(3, 2))    # replaces b's value to 2\n",
    "\n",
    "# Local vs global scope\n",
    "x = 10      #global scope\n",
    "def modify():\n",
    "    x = 5  # local x\n",
    "    return x\n",
    "\n",
    "print('global x before:', x)\n",
    "print('modify() returns:', modify())\n",
    "print('global x after:', x)\n",
    "\n",
    "# To modify global variable, use global keyword\n",
    "def set_global():\n",
    "    global x\n",
    "    x = 20\n",
    "\n",
    "set_global()\n",
    "print('global x after set_global:', x)"
   ]
  },
  {
   "cell_type": "markdown",
   "id": "5af9ed94",
   "metadata": {},
   "source": [
    "## Advanced Functions, Recursion and Decorators\n",
    "\n",
    "Higher-order functions, lambda, map/filter/reduce, recursion (factorial, Fibonacci), and a brief intro to decorators."
   ]
  },
  {
   "cell_type": "code",
   "execution_count": null,
   "id": "f4eb30a9",
   "metadata": {},
   "outputs": [],
   "source": [
    "# Lambda and higher-order functions\n",
    "square = lambda x: x * x\n",
    "print('square(5)=', square(5))\n",
    "\n",
    "# map, filter, reduce\n",
    "nums = [1, 2, 3, 4, 5]\n",
    "squares = list(map(lambda x: x*x, nums))\n",
    "evens = list(filter(lambda x: x%2==0, nums))\n",
    "from functools import reduce\n",
    "sum_all = reduce(lambda a, b: a + b, nums)\n",
    "print('squares:', squares)\n",
    "print('evens:', evens)\n",
    "print('sum_all:', sum_all)\n",
    "\n",
    "# Recursion: factorial\n",
    "def factorial(n):\n",
    "    if n <= 1:\n",
    "        return 1\n",
    "    return n * factorial(n-1)\n",
    "\n",
    "print('factorial(5)=', factorial(5))\n",
    "\n",
    "# Recursion: Fibonacci (simple recursive, not efficient)\n",
    "def fib(n):\n",
    "    if n <= 1:\n",
    "        return n\n",
    "    return fib(n-1) + fib(n-2)\n",
    "\n",
    "print('fib(6)=', fib(6))\n",
    "\n",
    "# Simple decorator example\n",
    "def debug(func):\n",
    "    def wrapper(*args, **kwargs):\n",
    "        print(f'Calling {func.__name__} with', args, kwargs)\n",
    "        result = func(*args, **kwargs)\n",
    "        print(f'{func.__name__} returned', result)\n",
    "        return result\n",
    "    return wrapper\n",
    "\n",
    "@debug\n",
    "def multiply(a, b):\n",
    "    return a * b\n",
    "\n",
    "print('multiply(3,4)=', multiply(3,4))"
   ]
  },
  {
   "cell_type": "markdown",
   "id": "b41d2d96",
   "metadata": {},
   "source": [
    "## String, List, Tuple and Dictionary\n",
    "\n",
    "Common methods and operations, indexing, slicing, and examples for each."
   ]
  },
  {
   "cell_type": "code",
   "execution_count": null,
   "id": "8fd076cc",
   "metadata": {},
   "outputs": [],
   "source": [
    "# Strings\n",
    "s = 'Hello, Python!'\n",
    "print(s.upper())\n",
    "print(s.replace('Python', 'World'))\n",
    "print('slice:', s[0:5])\n",
    "\n",
    "# Lists\n",
    "lst = [3, 1, 4, 1, 5]\n",
    "lst.append(9)\n",
    "print('list sorted:', sorted(lst))\n",
    "print('pop last:', lst.pop())\n",
    "\n",
    "# Tuples\n",
    "t = (1, 2, 3)\n",
    "print('tuple 0 index:', t[0])\n",
    "\n",
    "# Dictionaries\n",
    "d = {'a': 1, 'b': 2}\n",
    "d['c'] = 3\n",
    "print('dict keys:', list(d.keys()))\n",
    "print('dict items:', list(d.items()))"
   ]
  },
  {
   "cell_type": "markdown",
   "id": "70cf8bbb",
   "metadata": {},
   "source": [
    "## Set, Arrays and Comprehension\n",
    "\n",
    "Sets and their methods, arrays (Python's array module and a short NumPy intro), and comprehensions."
   ]
  },
  {
   "cell_type": "code",
   "execution_count": null,
   "id": "4103cce3",
   "metadata": {},
   "outputs": [],
   "source": [
    "# Sets\n",
    "s = {1, 2, 3, 2}\n",
    "print('set:', s)\n",
    "s.add(4)\n",
    "print('after add:', s)\n",
    "\n",
    "# Arrays using array module\n",
    "import array as arr\n",
    "a = arr.array('i', [1, 2, 3])\n",
    "print('array:', a)\n",
    "\n",
    "# (Optional) NumPy intro - only import if available\n",
    "try:\n",
    "    import numpy as np\n",
    "    print('numpy array:', np.array([1,2,3]))\n",
    "except Exception as e:\n",
    "    print('NumPy not available, skipping numpy example')\n",
    "\n",
    "# List comprehension\n",
    "comps = [x*x for x in range(6) if x%2==0]\n",
    "print('comprehension:', comps)\n",
    "\n",
    "# Dict comprehension\n",
    "dcomp = {x: x*x for x in range(5)}\n",
    "print('dict comp:', dcomp)\n",
    "\n",
    "# Set comprehension\n",
    "scomp = {x for x in range(5)}\n",
    "print('set comp:', scomp)"
   ]
  },
  {
   "cell_type": "markdown",
   "id": "91adb6a7",
   "metadata": {},
   "source": [
    "## Notes & Interview Tips\n",
    "\n",
    "- Practice explaining concepts out loud; teaching helps retention.\n",
    "- Focus on problem solving: data structures (lists, dicts, sets), time complexity basics, and common algorithms (sorting, searching).\n",
    "- Common interview Qs: reverse a string, find duplicates, merge two sorted lists, implement stack/queue using lists.\n",
    "- Be ready to write clean, testable code and explain trade-offs.\n",
    "- Understand common Pythonic idioms: list comprehensions, unpacking, context managers, and EAFP vs LBYL.\n",
    "\n",
    "Good luck with learning and interviews!"
   ]
  }
 ],
 "metadata": {
  "kernelspec": {
   "display_name": "Python 3",
   "language": "python",
   "name": "python3"
  },
  "language_info": {
   "codemirror_mode": {
    "name": "ipython",
    "version": 3
   },
   "file_extension": ".py",
   "mimetype": "text/x-python",
   "name": "python",
   "nbconvert_exporter": "python",
   "pygments_lexer": "ipython3",
   "version": "3.13.7"
  }
 },
 "nbformat": 4,
 "nbformat_minor": 5
}
