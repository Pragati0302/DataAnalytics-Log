{
 "cells": [
  {
   "cell_type": "markdown",
   "id": "531e6838",
   "metadata": {},
   "source": [
    "# 🐍 Day 1: Python Basics\n",
    "_Introduction to Python, Variables, Keywords, and Data Types_\n"
   ]
  },
  {
   "cell_type": "markdown",
   "id": "a2ab9d6b",
   "metadata": {},
   "source": [
    "## Objective\n",
    "Document core Python concepts learned on Day 1, including:\n",
    "- What is Python and why it's popular\n",
    "- Variables and object references\n",
    "- Keywords and data types\n",
    "- How to access and manipulate data types"
   ]
  },
  {
   "cell_type": "markdown",
   "id": "5a457216",
   "metadata": {},
   "source": [
    "## **What is Python?**\n",
    "Python is a high-level, interpreted programming language known for its readability and versatility. It's widely used in data analytics, web development, automation, and more.\n"
   ]
  },
  {
   "cell_type": "markdown",
   "id": "495be3fd",
   "metadata": {},
   "source": [
    "**Advantages**:\n",
    "- Easy to learn and read\n",
    "- Large community and libraries\n",
    "- Cross-platform compatibility\n",
    "- Great for rapid prototyping\n",
    "\n",
    "**Disadvantages**:\n",
    "- Slower than compiled languages\n",
    "- Not ideal for mobile development\n",
    "- Dynamic typing can lead to runtime errors"
   ]
  },
  {
   "cell_type": "markdown",
   "id": "01292abd",
   "metadata": {},
   "source": [
    "## **Variables**\n",
    " - Variables in Python are names that refer to objects in memory.\n",
    " - Python uses dynamic typing, so the type of a variable is determined at runtime."
   ]
  },
  {
   "cell_type": "code",
   "execution_count": 3,
   "id": "6c37bd0f",
   "metadata": {},
   "outputs": [
    {
     "name": "stdout",
     "output_type": "stream",
     "text": [
      "140716603712712 140716603712712\n",
      "<class 'int'> <class 'float'> <class 'int'>\n"
     ]
    }
   ],
   "source": [
    "x = 10\n",
    "y = x\n",
    "print(id(x), id(y))  # Same memory reference\n",
    "\n",
    "a=20\n",
    "b=5.5\n",
    "c=-1\n",
    "print(type(a), type(b), type(c))\n"
   ]
  },
  {
   "cell_type": "markdown",
   "id": "dcef0312",
   "metadata": {},
   "source": [
    "\n",
    "## **Keywords**\n",
    " - Keywords are reserved words that cannot be used as variable names.\n"
   ]
  },
  {
   "cell_type": "code",
   "execution_count": 5,
   "id": "9b3ea96d",
   "metadata": {},
   "outputs": [
    {
     "name": "stdout",
     "output_type": "stream",
     "text": [
      "['False', 'None', 'True', 'and', 'as', 'assert', 'async', 'await', 'break', 'class', 'continue', 'def', 'del', 'elif', 'else', 'except', 'finally', 'for', 'from', 'global', 'if', 'import', 'in', 'is', 'lambda', 'nonlocal', 'not', 'or', 'pass', 'raise', 'return', 'try', 'while', 'with', 'yield']\n"
     ]
    }
   ],
   "source": [
    "#There are 35+ keywords like if, else, for, while, def, class, etc.\n",
    "import keyword\n",
    "print(keyword.kwlist)"
   ]
  },
  {
   "cell_type": "markdown",
   "id": "03245a4c",
   "metadata": {},
   "source": [
    "## **Data Types**"
   ]
  },
  {
   "cell_type": "markdown",
   "id": "c90abdd4",
   "metadata": {},
   "source": [
    "### Built-in Types:\n",
    "- Numeric: `int`, `float`, `complex`\n",
    "- Sequence: `str`, `list`, `tuple`\n",
    "- Mapping: `dict`\n",
    "- Set: `set`, `frozenset`\n",
    "- Boolean: `bool`\n",
    "- NoneType: `None`"
   ]
  },
  {
   "cell_type": "code",
   "execution_count": 9,
   "id": "f40a6c2f",
   "metadata": {},
   "outputs": [],
   "source": [
    "# Numeric\n",
    "a = 5           # int\n",
    "b = 3.14        # float\n",
    "c = 2 + 3j      # complex\n",
    "\n",
    "# Sequence\n",
    "s = \"Hello\"     # str\n",
    "l = [1, 2, 3]   # list\n",
    "t = (4, 5)      # tuple\n",
    "\n",
    "# Mapping\n",
    "d = {\"name\": \"Pragati\", \"role\": \"Engineer\"}  # dict\n",
    "\n",
    "# Set\n",
    "st = {1, 2, 3}  # set\n",
    "\n",
    "# Boolean\n",
    "flag = True     # bool\n",
    "\n",
    "# NoneType\n",
    "n = None\n"
   ]
  }
 ],
 "metadata": {
  "kernelspec": {
   "display_name": "Python 3",
   "language": "python",
   "name": "python3"
  },
  "language_info": {
   "codemirror_mode": {
    "name": "ipython",
    "version": 3
   },
   "file_extension": ".py",
   "mimetype": "text/x-python",
   "name": "python",
   "nbconvert_exporter": "python",
   "pygments_lexer": "ipython3",
   "version": "3.13.7"
  }
 },
 "nbformat": 4,
 "nbformat_minor": 5
}
